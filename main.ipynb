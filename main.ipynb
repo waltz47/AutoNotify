{
 "cells": [
  {
   "cell_type": "code",
   "execution_count": 3,
   "metadata": {},
   "outputs": [],
   "source": [
    "import os\n",
    "import ollama\n",
    "# from gnews import GNews\n",
    "from googlesearch import search\n",
    "import requests\n",
    "import os\n",
    "from openai import OpenAI\n",
    "from bs4 import BeautifulSoup\n",
    "import re\n",
    "import json"
   ]
  },
  {
   "cell_type": "code",
   "execution_count": 4,
   "metadata": {},
   "outputs": [],
   "source": [
    "#VARIABLES\n",
    "MODEL_NAME = \"grok-beta\""
   ]
  },
  {
   "cell_type": "code",
   "execution_count": 5,
   "metadata": {},
   "outputs": [],
   "source": [
    "def search_web(query):\n",
    "    s = search(query, num_results=10,advanced=True)\n",
    "    ret_str = \"\"\n",
    "    for i in s:\n",
    "        ret_str += i.description + \"\\n\"\n",
    "    return ret_str"
   ]
  },
  {
   "cell_type": "code",
   "execution_count": 6,
   "metadata": {},
   "outputs": [],
   "source": [
    "functions = [\n",
    "    {\n",
    "        \"name\": \"search_web\",\n",
    "        \"description\": \"Search the web for new articles and information about the given topic\",\n",
    "        \"parameters\": {\n",
    "            \"type\": \"object\",\n",
    "            \"properties\": {\n",
    "                \"query\": {\n",
    "                    \"type\": \"string\",\n",
    "                    \"description\": \"The topic you want to search for\",\n",
    "                    \"example_value\": \"SpaceX Current CEO\",\n",
    "                },\n",
    "            },\n",
    "            \"required\": [\"query\"],\n",
    "            \"optional\": [],\n",
    "        },\n",
    "    },\n",
    "    # {\n",
    "    #     \"name\": \"click\",\n",
    "    #     \"description\": \"Click any button on a website and returns the new HTML\",\n",
    "    #     \"parameters\": {\n",
    "    #         \"type\": \"object\",\n",
    "    #         \"properties\": {\n",
    "    #             \"html\": {\n",
    "    #                 \"type\": \"string\",\n",
    "    #                 \"description\": \"A HTML\",\n",
    "    #             },\n",
    "    #             \"button\": {\n",
    "    #                 \"type\": \"string\",\n",
    "    #                 \"description\": \"A text description of a button on the html page\",\n",
    "    #             },\n",
    "    #         },\n",
    "    #         \"required\": [\"html\", \"button\"],\n",
    "    #         \"optional\": [],\n",
    "    #     },\n",
    "    # },\n",
    "]\n"
   ]
  },
  {
   "cell_type": "code",
   "execution_count": 13,
   "metadata": {},
   "outputs": [],
   "source": [
    "messages=[\n",
    "        {\"role\": \"system\", \"content\": '''You are a helpful assistant. Answer questions honestly and truthfully'''},\n",
    "        {\"role\": \"user\", \"content\": '''Did the starship's 6th test flight already happen?'''}\n",
    "    ]"
   ]
  },
  {
   "cell_type": "code",
   "execution_count": 14,
   "metadata": {},
   "outputs": [
    {
     "data": {
      "text/plain": [
       "Choice(finish_reason='stop', index=0, logprobs=None, message=ChatCompletionMessage(content=\"As of my last update in **2023**, Starship's 6th test flight has not occurred. Here are some key points regarding Starship's test flight history:\\n\\n- **First Test Flight**: Took place on April 20, 2023, but ended in an explosion shortly after lift-off due to a failure in stage separation.\\n- **Second Test Flight**: Was set to occur later in 2023, but as of my last update, there were delays and no confirmation of the flight happening.\\n\\nFor the most current information:\\n\\n- **Check SpaceX's Official Channels**: SpaceX typically provides updates through their official website, X posts, and press releases.\\n- **News Outlets**: Follow aerospace news outlets like SpaceNews, Ars Technica, or NASA Spaceflight for the latest on Starship developments.\\n\\nPlease verify with these sources for any updates or announcements regarding the 6th test flight.\", refusal=None, role='assistant', audio=None, function_call=None, tool_calls=None))"
      ]
     },
     "execution_count": 14,
     "metadata": {},
     "output_type": "execute_result"
    }
   ],
   "source": [
    "client = OpenAI(\n",
    "    api_key=\"xai-UiOih20Ae5VKxD7MGb2llRT5N4VMev11oTFnMS7rjsOuxtqOz7dyvS2oNBbMdrmoEM00vWYuZPQ5zrqX\",\n",
    "    base_url=\"https://api.x.ai/v1\",\n",
    ")\n",
    "\n",
    "tools = [{'type': \"function\", \"function\": f} for f in functions]\n",
    "\n",
    "response = client.chat.completions.create(\n",
    "    model=MODEL_NAME,\n",
    "    messages=messages,\n",
    "    # tools=tools\n",
    ")\n",
    "\n",
    "response.choices[0]"
   ]
  },
  {
   "cell_type": "code",
   "execution_count": 25,
   "metadata": {},
   "outputs": [
    {
     "name": "stdout",
     "output_type": "stream",
     "text": [
      "html is Fearless (Taylor's Version): The I Remember What You Said Last Night Chapter. Released: May 24, 2021; Label: Republic. Fearless (Taylor's Version): The From ...\n",
      "8 Jan 2024 — 15. The Tortured Poets Department (April 2024) - Taylor Swift's New Album. During her 2024 Grammys acceptance speech for Best Pop Vocal Album ...\n",
      "28 Oct 2024 — Swift's latest album, The Tortured Poets Department, was released on 19th April and became the first album in Spotify history to reach more ...\n",
      "19 Apr 2024 — Speak Now (Taylor's Version) is Taylor's most recent release and is the third re-recording of her original material. It was released on 7th July ...\n",
      "29 Oct 2024 — Every Taylor Swift Album In Original Release Order ; Evermore. 2020 ; Fearless (Taylor's Version). 2021 ; Red (Taylor's Version). 2021 ; Midnights.\n",
      "2 May 2024 — By releasing two albums in one, Taylor Swift sacrificed quality for quantity in \"The Tortured Poets Department.\"\n",
      "Taylor Swift The Tortured Poets Department Available Now Stream / Download Stream / Download Store Shop Official Store\n",
      "All's fair in love and poetry... New album THE TORTURED POETS DEPARTMENT. Out now · We'll be kicking off the final leg of The Eras Tour this week, which is ...\n",
      "19 Apr 2024 — With the surprise release of 15 additional songs, \"The Tortured Poets Department: The Anthology\" has 31 tracks. That now makes it Swift's ...\n",
      "19 Aug 2024 — Although the album Reputation (Taylor's Version) is much anticipated by fans, it appears that the release date could be delayed until 2025.\n",
      "\n"
     ]
    }
   ],
   "source": [
    "tool_call = response.choices[0].message.tool_calls[0]\n",
    "\n",
    "query = json.loads(tool_call.function.arguments)[\"query\"]\n",
    "\n",
    "html = search_web(query)\n",
    "print(\"html is\", html)"
   ]
  },
  {
   "cell_type": "code",
   "execution_count": 26,
   "metadata": {},
   "outputs": [],
   "source": [
    "function_call_result_message = {\n",
    "    \"role\": \"tool\",\n",
    "    \"content\": html,\n",
    "    \"tool_call_id\": response.choices[0].message.tool_calls[0].id\n",
    "}\n",
    "\n",
    "messages = [\n",
    "     {\"role\": \"system\", \"content\": '''You are a helpful assistant. Answer questions honestly and truthfully. Use functions available to you to find information (if needed).'''},\n",
    "    {\"role\": \"user\", \"content\": '''What is the latest taylow swift album?'''},\n",
    "    response.choices[0].message,    \n",
    "    function_call_result_message\n",
    "]\n",
    "\n",
    "response = client.chat.completions.create(\n",
    "    model=MODEL_NAME,\n",
    "    messages=messages,\n",
    "    tools=tools,\n",
    ")\n"
   ]
  },
  {
   "cell_type": "code",
   "execution_count": 27,
   "metadata": {},
   "outputs": [
    {
     "data": {
      "text/plain": [
       "'The latest Taylor Swift album is **The Tortured Poets Department**, released on April 19, 2024.'"
      ]
     },
     "execution_count": 27,
     "metadata": {},
     "output_type": "execute_result"
    }
   ],
   "source": [
    "response.choices[0].message.content"
   ]
  }
 ],
 "metadata": {
  "kernelspec": {
   "display_name": "Python 3",
   "language": "python",
   "name": "python3"
  },
  "language_info": {
   "codemirror_mode": {
    "name": "ipython",
    "version": 3
   },
   "file_extension": ".py",
   "mimetype": "text/x-python",
   "name": "python",
   "nbconvert_exporter": "python",
   "pygments_lexer": "ipython3",
   "version": "3.10.0"
  }
 },
 "nbformat": 4,
 "nbformat_minor": 2
}
